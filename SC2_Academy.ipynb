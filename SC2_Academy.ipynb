{
  "nbformat": 4,
  "nbformat_minor": 0,
  "metadata": {
    "colab": {
      "name": "SC2 Academy",
      "provenance": [],
      "private_outputs": true,
      "collapsed_sections": [],
      "toc_visible": true,
      "machine_shape": "hm"
    },
    "kernelspec": {
      "name": "python3",
      "display_name": "Python 3"
    },
    "accelerator": "GPU"
  },
  "cells": [
    {
      "cell_type": "code",
      "metadata": {
        "id": "LePjdwlWjB05",
        "colab_type": "code",
        "cellView": "form",
        "colab": {}
      },
      "source": [
        "#@title Licensed under the Apache License, Version 2.0 (the \"License\");\n",
        "# you may not use this file except in compliance with the License.\n",
        "# You may obtain a copy of the License at\n",
        "#\n",
        "# https://www.apache.org/licenses/LICENSE-2.0\n",
        "#\n",
        "# Unless required by applicable law or agreed to in writing, software\n",
        "# distributed under the License is distributed on an \"AS IS\" BASIS,\n",
        "# WITHOUT WARRANTIES OR CONDITIONS OF ANY KIND, either express or implied.\n",
        "# See the License for the specific language governing permissions and\n",
        "# limitations under the License."
      ],
      "execution_count": null,
      "outputs": []
    },
    {
      "cell_type": "markdown",
      "metadata": {
        "id": "hko-8BfpvLDr",
        "colab_type": "text"
      },
      "source": [
        "Open this notebook in Google Colab with this link: "
      ]
    },
    {
      "cell_type": "markdown",
      "metadata": {
        "id": "5Vqyeh8kOkPC",
        "colab_type": "text"
      },
      "source": [
        "# Introduction\n",
        "\n",
        "This notebook illustrates how to use the *SC2 Academy* framework.\n",
        "\n",
        "If you are using Google Colab, which is highly encouraged, please make sure to select a GPU runtime under: \n",
        "\n",
        "**'Runtime -> Change runtime type -> Hardware accelerator: GPU'**\n",
        "\n",
        "\n",
        "Now run the cells below in the order they appear in!"
      ]
    },
    {
      "cell_type": "markdown",
      "metadata": {
        "id": "AwYYNIbITWgr",
        "colab_type": "text"
      },
      "source": [
        "# Setup\n",
        "\n",
        "This installs all the packages needed to run PySC2 and TF-Agents."
      ]
    },
    {
      "cell_type": "code",
      "metadata": {
        "id": "LLOlLbH2R7Aa",
        "colab_type": "code",
        "colab": {}
      },
      "source": [
        "# since Colab does not have an X Server, we installing a virtual one\n",
        "!pip install -q pysc2 pyvirtualdisplay\n",
        "!apt-get install -y xvfb python-opengl mesa-utils libosmesa6-dev xorg x11-xserver-utils\n",
        "!pip install --upgrade tf-agents==0.6.0\n",
        "# to avoid conflicts, we first uninstall the pre-installed versions\n",
        "!pip uninstall -y tensorboard\n",
        "!pip uninstall -y tensorflow\n",
        "!pip install tensorflow==2.3.0\n",
        "!pip install tensorflow-probability==0.11.0\n",
        "!pip install dm-reverb\n",
        "\n",
        "!rm -R sample_data/ #free up some space\n",
        "\n",
        "# Important - remove libtcmalloc\n",
        "# This is the main roadblock stopping us originally from using Colab\n",
        "# Credit goes to: https://medium.com/@n0mad/how-i-trained-starcraft-2-ais-using-googles-free-gpus-44bc635b0418\n",
        "# Note that you will get a lot of errors looking like this\n",
        "# ERROR: ld.so: object '/usr/lib/x86_64-linux-gnu/libtcmalloc.so.4' from LD_PRELOAD \n",
        "!apt-get remove libtcmalloc*"
      ],
      "execution_count": null,
      "outputs": []
    },
    {
      "cell_type": "markdown",
      "metadata": {
        "id": "VYi0nOW3Op29",
        "colab_type": "text"
      },
      "source": [
        "## Get the SC2 Academy\n",
        "\n",
        "This pulls from the GitHub repository and moves the folders around for a simpler structure."
      ]
    },
    {
      "cell_type": "code",
      "metadata": {
        "id": "tVGkUl2913aw",
        "colab_type": "code",
        "colab": {}
      },
      "source": [
        "!rm -R sc2_academy/\n",
        "!git clone https://github.com/Ricechrispi/sc2_academy.git\n",
        "!mv sc2_academy sc2_academy_\n",
        "!mv sc2_academy_/sc2_academy sc2_academy\n",
        "!rm -R sc2_academy_"
      ],
      "execution_count": null,
      "outputs": []
    },
    {
      "cell_type": "markdown",
      "metadata": {
        "id": "J5NEmiwgSLR5",
        "colab_type": "text"
      },
      "source": [
        "## Download and Unpack StarCraft II"
      ]
    },
    {
      "cell_type": "markdown",
      "metadata": {
        "id": "ZX0JoA3dZB2h",
        "colab_type": "text"
      },
      "source": [
        "This first downloads and then unpacks the StarCraft II linux binary, which will take about ~6 minutes.\n",
        "\n",
        "Note that unpacking requires to use the password ‘iagreetotheeula’. With this you agree to be bound by the terms of the **AI and Machine Learning License**. See https://github.com/Blizzard/s2client-proto#downloads\n",
        "\n",
        "Downloading directly from Blizzard is quite slow. If you intend to use this notebook a lot, we recommend using a local Jupyter notebook instance or to copy the StarCraft II binary to your Google Drive and copy it here from there.\n",
        "\n",
        "This could be done like this:\n",
        "```\n",
        "from google.colab import drive\n",
        "drive.mount('/content/gdrive')\n",
        "!cp /content/gdrive/My\\ Drive/SC2.4.10.zip /content/SC2.4.10.zip \n",
        "drive.flush_and_unmount()\n",
        "```\n",
        "\n"
      ]
    },
    {
      "cell_type": "code",
      "metadata": {
        "id": "uJWvpdg1NSEI",
        "colab_type": "code",
        "colab": {}
      },
      "source": [
        "import time\n",
        "copy_time = 0\n",
        "start_time = time.time()\n",
        "!wget https://blzdistsc2-a.akamaihd.net/Linux/SC2.4.10.zip\n",
        "copy_time += time.time() - start_time\n",
        "\n",
        "unpack_time = 0\n",
        "start_time = time.time()\n",
        "!unzip -P iagreetotheeula -oq SC2.4.10.zip -d ~\n",
        "unpack_time += time.time() - start_time\n",
        "\n",
        "print(''.join(['copy_time = ', str(copy_time), ' unpack_time = ', str(unpack_time)]))"
      ],
      "execution_count": null,
      "outputs": []
    },
    {
      "cell_type": "markdown",
      "metadata": {
        "id": "_XMY0iVahSyo",
        "colab_type": "text"
      },
      "source": [
        "## Choose Training Hyper-Parameters\n",
        "\n",
        "With these default values, an agent is trained for MoveToBeacon for ~2h on a normal Colab GPU instance. \n"
      ]
    },
    {
      "cell_type": "code",
      "metadata": {
        "id": "0Byh13OVtX6H",
        "colab_type": "code",
        "cellView": "both",
        "colab": {}
      },
      "source": [
        "#@title Hyper-Parameters for Trainig {run: 'auto'}\n",
        "map_name = 'MoveToBeacon' #@param ['MoveToBeacon', 'CollectMineralShards', 'FindAndDefeatZerglings', 'DefeatRoaches', 'DefeatZerglingsAndBanelings', 'CollectMineralsAndGas', 'BuildMarines']\n",
        "num_parallel_envs = 4 #@param {type:'slider', min:1, max:5, step:1}\n",
        "num_environment_steps = 2000000  #@param {type:'slider', min:1000000, max:10000000, step:1000000}\n",
        "num_collect_episodes = 20 #@param {type:'slider', min:12, max:32, step:4}\n",
        "replay_buffer_max_length = 4000 #@param {type:'slider', min:1000, max:10000, step:1000}\n",
        "use_lstms = False #@param {type:'boolean'}\n",
        "misc_info = 'a short run' #@param {type: 'string'}\n",
        "\n",
        "description = 'DESCRIPTION:' \\\n",
        "              + '\\nmap_name: ' + map_name \\\n",
        "              + ';\\num_parallel_envs: ' + str(num_parallel_envs) \\\n",
        "              + ';\\nnum_environment_steps: ' + str(num_environment_steps) \\\n",
        "              + ';\\num_collect_episodes: ' + str(num_collect_episodes) \\\n",
        "              + ';\\nreplay_buffer_max_length: ' +str(replay_buffer_max_length) \\\n",
        "              + ';\\nuse_lstms: ' + str(use_lstms) \\\n",
        "              + ';\\nmisc_info: ' + misc_info\n"
      ],
      "execution_count": null,
      "outputs": []
    },
    {
      "cell_type": "markdown",
      "metadata": {
        "id": "0lgb1kFFPPiz",
        "colab_type": "text"
      },
      "source": [
        "## Tensorboard\n",
        "\n",
        "This sets up a TensorBoard instance to visualize the training progress.\n",
        "\n",
        "NOTE: Execute this cell after every time you change the hyper-parameters. If the map name chagnes, the path for the tensorboard data also changes!"
      ]
    },
    {
      "cell_type": "code",
      "metadata": {
        "id": "0LygRbigAo6y",
        "colab_type": "code",
        "colab": {}
      },
      "source": [
        "%reload_ext tensorboard\n",
        "%tensorboard --logdir /content/results/$map_name"
      ],
      "execution_count": null,
      "outputs": []
    },
    {
      "cell_type": "markdown",
      "metadata": {
        "id": "rgvhW-C5PSG7",
        "colab_type": "text"
      },
      "source": [
        "# Start Training"
      ]
    },
    {
      "cell_type": "code",
      "metadata": {
        "id": "kHzyvILozxx5",
        "colab_type": "code",
        "colab": {}
      },
      "source": [
        "# Start the training here. This cell could take multiple hours depending on the hyper-parameters.\n",
        "!echo '$description' >> run_description.txt\n",
        "!python sc2_academy/sc2_academy.py --map_name=$map_name --num_parallel_envs=$num_parallel_envs --num_environment_steps=$num_environment_steps --num_collect_episodes=$num_collect_episodes --replay_buffer_max_length=$replay_buffer_max_length --use_lstms=$use_lstms 2> run_output.log"
      ],
      "execution_count": null,
      "outputs": []
    },
    {
      "cell_type": "markdown",
      "metadata": {
        "id": "VLQOgqVxPVU2",
        "colab_type": "text"
      },
      "source": [
        "# Evaluate\n",
        "\n",
        "This evaluates your trained agent.\n",
        "\n",
        "Important to note: \n",
        "*   The number of parallel environments\n",
        "*   and wether you used LSTMs\n",
        "\n",
        "must be the same as when training the agent. \n",
        "There is sadly no easy way for me to extract this information.\n",
        "\n",
        "You can also choose to run a random evaluation, that creates an agent that takes random actions at every time step.\n",
        "\n",
        "\n"
      ]
    },
    {
      "cell_type": "code",
      "metadata": {
        "id": "kPgt6bhDQhKC",
        "colab_type": "code",
        "cellView": "both",
        "colab": {}
      },
      "source": [
        "#@title Hyper-Parameters for Evaluation {run: 'auto'}\n",
        "eval_map_name = 'MoveToBeacon' #@param ['MoveToBeacon', 'CollectMineralShards', 'FindAndDefeatZerglings', 'DefeatRoaches', 'DefeatZerglingsAndBanelings', 'CollectMineralsAndGas', 'BuildMarines']\n",
        "eval_num_parallel_envs = 4 #@param {type:'slider', min:1, max:5, step:1}\n",
        "num_eval_episodes = 10 #@param {type:'slider', min:10, max:100, step:10}\n",
        "use_lstms = False #@param {type:'boolean'}\n",
        "misc_info = 'a short eval run' #@param {type: 'string'}\n",
        "\n",
        "#@markdown --------------\n",
        "#@markdown ### NOTE: If this is checked, a random agent is evaluated, NOT your trained agent \n",
        "random_eval = False #@param {type:'boolean'}"
      ],
      "execution_count": null,
      "outputs": []
    },
    {
      "cell_type": "code",
      "metadata": {
        "id": "C0VfCNhDPcej",
        "colab_type": "code",
        "colab": {}
      },
      "source": [
        "# Start the evaluation here.\n",
        "!python sc2_academy/sc2_academy.py --map_name=$eval_map_name --num_parallel_envs=$eval_num_parallel_envs --num_eval_episodes=$num_eval_episodes --use_lstms=$use_lstms --just_eval=True --just_eval_random=$random_eval 2> eval_output.log"
      ],
      "execution_count": null,
      "outputs": []
    },
    {
      "cell_type": "markdown",
      "metadata": {
        "id": "CRM49h76PEm5",
        "colab_type": "text"
      },
      "source": [
        "# Export Results\n",
        "\n",
        "This compresses all contents of the results folder and the log files into one file with a time stamp. \n",
        "\n",
        "After this is done, just download this file via **'right-click -> Download'** in the Colab file browser."
      ]
    },
    {
      "cell_type": "code",
      "metadata": {
        "id": "p1vXR8qg0azp",
        "colab_type": "code",
        "colab": {}
      },
      "source": [
        "import time\n",
        "ts = time.gmtime()\n",
        "time_string = time.strftime(\"%Y-%m-%d-%Hh-%Mm-%Ss\", ts)\n",
        "\n",
        "!zip -r /content/result_'$time_string'.zip /content/results /content/sc2_academy/ /content/run_output.log /content/run_description.txt /content/eval_output.log"
      ],
      "execution_count": null,
      "outputs": []
    },
    {
      "cell_type": "markdown",
      "metadata": {
        "id": "X5wYwwlMPLkb",
        "colab_type": "text"
      },
      "source": [
        "# Clean-up\n",
        "\n",
        "If you want to delete a (failed) run and start fresh, still small script deletes all the run-related files.\n",
        "\n",
        "WARNING: this deletes _all_ the files in the results folder."
      ]
    },
    {
      "cell_type": "code",
      "metadata": {
        "id": "pKLUIfvHDeNK",
        "colab_type": "code",
        "colab": {}
      },
      "source": [
        "!rm -R /content/results\n",
        "!rm /content/result_*\n",
        "!rm /content/run_output.log \n",
        "!rm /content/run_description.txt\n",
        "!rm /content/eval_output.log"
      ],
      "execution_count": null,
      "outputs": []
    }
  ]
}